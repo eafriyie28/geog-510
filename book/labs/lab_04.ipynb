{
 "cells": [
  {
   "cell_type": "markdown",
   "metadata": {},
   "source": [
    "# Lab 4\n",
    "\n",
    "[![Open In Colab](https://colab.research.google.com/assets/colab-badge.svg)](https://colab.research.google.com/github/giswqs/geog-510/blob/main/book/labs/lab_04.ipynb)"
   ]
  },
  {
   "cell_type": "markdown",
   "metadata": {},
   "source": [
    "## Exercise 1: Variable Assignment and Basic Operations\n",
    "\n",
    "Create variables to store the following geospatial data:\n",
    "\n",
    "- The latitude and longitude of New York City: 40.7128, -74.0060.\n",
    "- The population of New York City: 8,336,817.\n",
    "- The area of New York City in square kilometers: 783.8.\n",
    "\n",
    "Perform the following tasks:\n",
    "\n",
    "1. Calculate and print the population density of New York City (population per square kilometer).\n",
    "2. Print the coordinates in the format \"Latitude: [latitude], Longitude: [longitude]\"."
   ]
  },
  {
   "cell_type": "code",
   "execution_count": 153,
   "metadata": {},
   "outputs": [],
   "source": [
    "city_name = \"New York City\"\n",
    "city_population = 8336817\n",
    "city_area = 783.8\n",
    "Coordinates = (40.7128, -74.0060)"
   ]
  },
  {
   "cell_type": "code",
   "execution_count": 152,
   "metadata": {},
   "outputs": [
    {
     "name": "stdout",
     "output_type": "stream",
     "text": [
      "The population density of 10636.408522582293 people per square mile in New York City\n"
     ]
    }
   ],
   "source": [
    "Density = city_population / city_area\n",
    "print(f\"The population density of {Density} people per square mile in {city_name}\")"
   ]
  },
  {
   "cell_type": "code",
   "execution_count": 154,
   "metadata": {},
   "outputs": [
    {
     "name": "stdout",
     "output_type": "stream",
     "text": [
      "Latitude: 40.7128, Longitude: -74.006\n"
     ]
    }
   ],
   "source": [
    "Latitude, Longitude = Coordinates\n",
    "print(f\"Latitude: {Latitude}, Longitude: {Longitude}\")"
   ]
  },
  {
   "cell_type": "markdown",
   "metadata": {},
   "source": [
    "## Exercise 2: Working with Strings\n",
    "\n",
    "Create a string variable to store the name of a city, such as \"San Francisco\". Perform the following operations:\n",
    "\n",
    "1. Convert the string to lowercase and print the result.\n",
    "2. Convert the string to uppercase and print the result.\n",
    "3. Replace \"San\" with \"Los\" in the city name and print the new string."
   ]
  },
  {
   "cell_type": "code",
   "execution_count": 14,
   "metadata": {},
   "outputs": [],
   "source": [
    "city = \"San Francisco\""
   ]
  },
  {
   "cell_type": "code",
   "execution_count": 16,
   "metadata": {},
   "outputs": [
    {
     "data": {
      "text/plain": [
       "'san francisco'"
      ]
     },
     "execution_count": 16,
     "metadata": {},
     "output_type": "execute_result"
    }
   ],
   "source": [
    "city.lower()"
   ]
  },
  {
   "cell_type": "code",
   "execution_count": 17,
   "metadata": {},
   "outputs": [
    {
     "data": {
      "text/plain": [
       "'SAN FRANCISCO'"
      ]
     },
     "execution_count": 17,
     "metadata": {},
     "output_type": "execute_result"
    }
   ],
   "source": [
    "city.upper()"
   ]
  },
  {
   "cell_type": "code",
   "execution_count": 18,
   "metadata": {},
   "outputs": [
    {
     "data": {
      "text/plain": [
       "'Los Francisco'"
      ]
     },
     "execution_count": 18,
     "metadata": {},
     "output_type": "execute_result"
    }
   ],
   "source": [
    "city.replace(\"San\", \"Los\")"
   ]
  },
  {
   "cell_type": "markdown",
   "metadata": {},
   "source": [
    "## Exercise 3: Using Lists\n",
    "\n",
    "Create a list of tuples, where each tuple contains the name of a city and its corresponding latitude and longitude:\n",
    "\n",
    "- New York City: (40.7128, -74.0060)\n",
    "- Los Angeles: (34.0522, -118.2437)\n",
    "- Chicago: (41.8781, -87.6298)\n",
    "\n",
    "Perform the following tasks:\n",
    "\n",
    "1. Add a new city (e.g., Miami: (25.7617, -80.1918)) to the list.\n",
    "2. Print the entire list of cities.\n",
    "3. Slice the list to print only the first two cities."
   ]
  },
  {
   "cell_type": "code",
   "execution_count": 74,
   "metadata": {},
   "outputs": [],
   "source": [
    "cities = [\n",
    "    (\"New York City\", 40.7128, -74.0060),\n",
    "    (\"Los Angeles\", 34.0522, -118.2437),\n",
    "    (\"Chicago\", 41.8781, -87.6298),\n",
    "]"
   ]
  },
  {
   "cell_type": "code",
   "execution_count": 75,
   "metadata": {},
   "outputs": [],
   "source": [
    "cities.append((\"Miami\", 25.7617, -80.1918))"
   ]
  },
  {
   "cell_type": "code",
   "execution_count": 76,
   "metadata": {},
   "outputs": [
    {
     "data": {
      "text/plain": [
       "[('New York City', 40.7128, -74.006),\n",
       " ('Los Angeles', 34.0522, -118.2437),\n",
       " ('Chicago', 41.8781, -87.6298),\n",
       " ('Miami', 25.7617, -80.1918)]"
      ]
     },
     "execution_count": 76,
     "metadata": {},
     "output_type": "execute_result"
    }
   ],
   "source": [
    "cities"
   ]
  },
  {
   "cell_type": "code",
   "execution_count": 77,
   "metadata": {},
   "outputs": [
    {
     "data": {
      "text/plain": [
       "[('New York City', 40.7128, -74.006), ('Los Angeles', 34.0522, -118.2437)]"
      ]
     },
     "execution_count": 77,
     "metadata": {},
     "output_type": "execute_result"
    }
   ],
   "source": [
    "cities[:2]"
   ]
  },
  {
   "cell_type": "markdown",
   "metadata": {},
   "source": [
    "## Exercise 4: Using Tuples\n",
    "\n",
    "Create a tuple to store the coordinates (latitude, longitude) of the Eiffel Tower: (48.8584, 2.2945). Perform the following tasks:\n",
    "\n",
    "1. Access and print the latitude and longitude values from the tuple.\n",
    "2. Try to change the latitude value to 48.8585. What happens? Explain why."
   ]
  },
  {
   "cell_type": "code",
   "execution_count": 45,
   "metadata": {},
   "outputs": [],
   "source": [
    "eiffel_tower = 48.8584, 2.2945\n"
   ]
  },
  {
   "cell_type": "code",
   "execution_count": 46,
   "metadata": {},
   "outputs": [
    {
     "name": "stdout",
     "output_type": "stream",
     "text": [
      "latitude 48.8584 and longitude 2.2945.\n"
     ]
    }
   ],
   "source": [
    "Latitude = eiffel_tower[0]\n",
    "Longitude = eiffel_tower[1] \n",
    "print(f\"latitude {Latitude} and longitude {Longitude}.\")"
   ]
  },
  {
   "cell_type": "code",
   "execution_count": 47,
   "metadata": {},
   "outputs": [
    {
     "ename": "TypeError",
     "evalue": "'tuple' object does not support item assignment",
     "output_type": "error",
     "traceback": [
      "\u001b[1;31m---------------------------------------------------------------------------\u001b[0m",
      "\u001b[1;31mTypeError\u001b[0m                                 Traceback (most recent call last)",
      "Cell \u001b[1;32mIn[47], line 1\u001b[0m\n\u001b[1;32m----> 1\u001b[0m \u001b[43meiffel_tower\u001b[49m\u001b[43m[\u001b[49m\u001b[38;5;241;43m0\u001b[39;49m\u001b[43m]\u001b[49m \u001b[38;5;241m=\u001b[39m \u001b[38;5;241m48.8585\u001b[39m\n",
      "\u001b[1;31mTypeError\u001b[0m: 'tuple' object does not support item assignment"
     ]
    }
   ],
   "source": [
    "eiffel_tower[0] = 48.8585"
   ]
  },
  {
   "cell_type": "markdown",
   "metadata": {},
   "source": [
    "**What happens?**:\n",
    "The code returns an error saying that 'tuple' does not support item assignment.\n",
    "\n",
    "**Explanation**:\n",
    "Tupels are immutable. Values within the tuple cannot be changed. The only way to change it to replace the entire tuple. "
   ]
  },
  {
   "cell_type": "markdown",
   "metadata": {},
   "source": [
    "## Exercise 5: Working with Sets\n",
    "\n",
    "Create a set of countries you have visited, such as {\"USA\", \"France\", \"Germany\"}. Perform the following tasks:\n",
    "\n",
    "1. Add a new country to the set.\n",
    "2. Try to add the same country again. What happens?\n",
    "3. Print the updated set."
   ]
  },
  {
   "cell_type": "code",
   "execution_count": 49,
   "metadata": {},
   "outputs": [],
   "source": [
    "visited = [\"Belgium\", \"Togo\", \"Ghana\", \"Nigeria\"]\n",
    "visited = set(visited)"
   ]
  },
  {
   "cell_type": "code",
   "execution_count": 50,
   "metadata": {},
   "outputs": [],
   "source": [
    "visited.add(\"USA\")"
   ]
  },
  {
   "cell_type": "code",
   "execution_count": 51,
   "metadata": {},
   "outputs": [],
   "source": [
    "visited.add(\"USA\")"
   ]
  },
  {
   "cell_type": "code",
   "execution_count": 52,
   "metadata": {},
   "outputs": [
    {
     "name": "stdout",
     "output_type": "stream",
     "text": [
      "Countries I have visited so far: {'Togo', 'Belgium', 'Ghana', 'Nigeria', 'USA'}\n"
     ]
    }
   ],
   "source": [
    "print(\"Countries I have visited so far:\" , visited)"
   ]
  },
  {
   "cell_type": "markdown",
   "metadata": {},
   "source": [
    "The duplicate did not show up in the final list although adding USA twice did not return any errors."
   ]
  },
  {
   "cell_type": "markdown",
   "metadata": {},
   "source": [
    "## Exercise 6: Working with Dictionaries\n",
    "\n",
    "Create a dictionary to store information about a specific geospatial feature, such as a river:\n",
    "\n",
    "- Name: \"Amazon River\"\n",
    "- Length: 6400 km\n",
    "- Countries: [\"Brazil\", \"Peru\", \"Colombia\"]\n",
    "\n",
    "Perform the following tasks:\n",
    "\n",
    "1. Add a new key-value pair to the dictionary to store the river's average discharge (e.g., 209,000 m³/s).\n",
    "2. Update the length of the river to 6992 km.\n",
    "3. Print the dictionary."
   ]
  },
  {
   "cell_type": "code",
   "execution_count": 53,
   "metadata": {},
   "outputs": [],
   "source": [
    "river = {\n",
    "    \"name\": \"Amazon_River\",\n",
    "    \"Length\": \"6400km\",\n",
    "    \"Countries\": [\"Brazil\", \"Peru\", \"Colombia\"],\n",
    "}"
   ]
  },
  {
   "cell_type": "code",
   "execution_count": 54,
   "metadata": {},
   "outputs": [],
   "source": [
    "river[\"discharge\"] = \"209000m^3/s\" # add a new key-value pair"
   ]
  },
  {
   "cell_type": "code",
   "execution_count": 55,
   "metadata": {},
   "outputs": [],
   "source": [
    "river[\"Length\"] = \"6992km\" # update the value of an existing key"
   ]
  },
  {
   "cell_type": "code",
   "execution_count": 56,
   "metadata": {},
   "outputs": [
    {
     "name": "stdout",
     "output_type": "stream",
     "text": [
      "updated river features: {'name': 'Amazon_River', 'Length': '6992km', 'Countries': ['Brazil', 'Peru', 'Colombia'], 'discharge': '209000m^3/s'}\n"
     ]
    }
   ],
   "source": [
    "print(\"updated river features:\" , river)"
   ]
  },
  {
   "cell_type": "markdown",
   "metadata": {},
   "source": [
    "## Exercise 7: Nested Data Structures\n",
    "\n",
    "Create a dictionary to represent a city that contains the city's name, population, and coordinates (latitude, longitude):\n",
    "\n",
    "- Name: \"Tokyo\"\n",
    "- Population: 13,515,271\n",
    "- Coordinates: (35.6895, 139.6917)\n",
    "\n",
    "Perform the following tasks:\n",
    "\n",
    "1. Access and print the population of the city.\n",
    "2. Access and print the city's latitude.\n",
    "3. Update the population to 14,000,000 and print the updated dictionary."
   ]
  },
  {
   "cell_type": "code",
   "execution_count": 57,
   "metadata": {},
   "outputs": [],
   "source": [
    "data = {\n",
    "    \"Name\": \"Tokyo\",\n",
    "    \"Population\": 13515271,\n",
    "    \"Coordinates\": (35.6895, 139.6917),\n",
    "}"
   ]
  },
  {
   "cell_type": "code",
   "execution_count": null,
   "metadata": {},
   "outputs": [
    {
     "data": {
      "text/plain": [
       "'Tokyo'"
      ]
     },
     "execution_count": 58,
     "metadata": {},
     "output_type": "execute_result"
    }
   ],
   "source": [
    "data[\"Name\"] #access and print the city name"
   ]
  },
  {
   "cell_type": "code",
   "execution_count": 62,
   "metadata": {},
   "outputs": [
    {
     "data": {
      "text/plain": [
       "35.6895"
      ]
     },
     "execution_count": 62,
     "metadata": {},
     "output_type": "execute_result"
    }
   ],
   "source": [
    "data[\"Coordinates\"][0] #access and print city's latitude"
   ]
  },
  {
   "cell_type": "code",
   "execution_count": 63,
   "metadata": {},
   "outputs": [],
   "source": [
    "data[\"Population\"] = 14000000 #update the population"
   ]
  },
  {
   "cell_type": "code",
   "execution_count": 64,
   "metadata": {},
   "outputs": [
    {
     "name": "stdout",
     "output_type": "stream",
     "text": [
      "updated dictionary: {'Name': 'Tokyo', 'Population': 14000000, 'Coordinates': (35.6895, 139.6917)}\n"
     ]
    }
   ],
   "source": [
    "print(\"updated dictionary:\" , data)"
   ]
  },
  {
   "cell_type": "markdown",
   "metadata": {},
   "source": [
    "## Exercise 8: List Operations\n",
    "\n",
    "Given the list of cities from Exercise 3, perform the following operations:\n",
    "\n",
    "1. Sort the list of cities alphabetically by name.\n",
    "2. Create a new list that contains only the city names.\n",
    "3. Remove the last city from the original list and print the updated list."
   ]
  },
  {
   "cell_type": "code",
   "execution_count": 78,
   "metadata": {},
   "outputs": [
    {
     "data": {
      "text/plain": [
       "[('Chicago', 41.8781, -87.6298),\n",
       " ('Los Angeles', 34.0522, -118.2437),\n",
       " ('Miami', 25.7617, -80.1918),\n",
       " ('New York City', 40.7128, -74.006)]"
      ]
     },
     "execution_count": 78,
     "metadata": {},
     "output_type": "execute_result"
    }
   ],
   "source": [
    "cities.sort()\n",
    "cities"
   ]
  },
  {
   "cell_type": "code",
   "execution_count": 79,
   "metadata": {},
   "outputs": [
    {
     "data": {
      "text/plain": [
       "['Chicago', 'Los Angeles', 'Miami', 'New York City']"
      ]
     },
     "execution_count": 79,
     "metadata": {},
     "output_type": "execute_result"
    }
   ],
   "source": [
    "city_names = [city for city, _, _ in cities]\n",
    "city_names\n"
   ]
  },
  {
   "cell_type": "code",
   "execution_count": 81,
   "metadata": {},
   "outputs": [
    {
     "name": "stdout",
     "output_type": "stream",
     "text": [
      "updated city names list ['Chicago', 'Los Angeles', 'Miami']\n"
     ]
    }
   ],
   "source": [
    "print(\"updated city names list\", city_names[:-1])"
   ]
  },
  {
   "cell_type": "markdown",
   "metadata": {},
   "source": [
    "## Exercise 9: Dictionary Operations\n",
    "\n",
    "Using the dictionary from Exercise 6, perform the following tasks:\n",
    "\n",
    "1. Check if the key \"Length\" exists in the dictionary.\n",
    "2. Print all the keys in the dictionary.\n",
    "3. Print all the values in the dictionary."
   ]
  },
  {
   "cell_type": "code",
   "execution_count": 82,
   "metadata": {},
   "outputs": [
    {
     "data": {
      "text/plain": [
       "'6992km'"
      ]
     },
     "execution_count": 82,
     "metadata": {},
     "output_type": "execute_result"
    }
   ],
   "source": [
    "river[\"Length\"]"
   ]
  },
  {
   "cell_type": "code",
   "execution_count": 84,
   "metadata": {},
   "outputs": [
    {
     "name": "stdout",
     "output_type": "stream",
     "text": [
      "all keys int he disctionary dict_keys(['name', 'Length', 'Countries', 'discharge'])\n"
     ]
    }
   ],
   "source": [
    "print(\"all keys int he disctionary\" , river.keys())"
   ]
  },
  {
   "cell_type": "code",
   "execution_count": 85,
   "metadata": {},
   "outputs": [
    {
     "name": "stdout",
     "output_type": "stream",
     "text": [
      "all values in the dictionary dict_values(['Amazon_River', '6992km', ['Brazil', 'Peru', 'Colombia'], '209000m^3/s'])\n"
     ]
    }
   ],
   "source": [
    "print(\"all values in the dictionary\" , river.values())"
   ]
  },
  {
   "cell_type": "markdown",
   "metadata": {},
   "source": [
    "## Exercise 10: Practical Application\n",
    "\n",
    "Imagine you have a list of tuples, each representing a location with its name, latitude, and longitude:"
   ]
  },
  {
   "cell_type": "code",
   "execution_count": 86,
   "metadata": {},
   "outputs": [],
   "source": [
    "locations = [\n",
    "    (\"Mount Everest\", 27.9881, 86.9250),\n",
    "    (\"K2\", 35.8808, 76.5155),\n",
    "    (\"Kangchenjunga\", 27.7025, 88.1475),\n",
    "]"
   ]
  },
  {
   "cell_type": "markdown",
   "metadata": {},
   "source": [
    "Perform the following tasks:\n",
    "\n",
    "1. Create a new list that contains only the names of the locations.\n",
    "2. Create a dictionary where the keys are location names and the values are tuples of their coordinates.\n",
    "3. Print the latitude of \"K2\" using the dictionary."
   ]
  },
  {
   "cell_type": "code",
   "execution_count": 99,
   "metadata": {},
   "outputs": [
    {
     "name": "stdout",
     "output_type": "stream",
     "text": [
      "new list of values ['Mount Everest', 'K2', 'Kangchenjunga']\n"
     ]
    }
   ],
   "source": [
    "values = []\n",
    "\n",
    "for names in locations:\n",
    "    new_list = names[0]\n",
    "    values.append(new_list)\n",
    "print(\"new list of values\" , values)"
   ]
  },
  {
   "cell_type": "code",
   "execution_count": 101,
   "metadata": {},
   "outputs": [
    {
     "data": {
      "text/plain": [
       "['Mount Everest', 'K2', 'Kangchenjunga']"
      ]
     },
     "execution_count": 101,
     "metadata": {},
     "output_type": "execute_result"
    }
   ],
   "source": [
    "new = [names for names, lat, lon in locations]\n",
    "new"
   ]
  },
  {
   "cell_type": "code",
   "execution_count": 102,
   "metadata": {},
   "outputs": [
    {
     "data": {
      "text/plain": [
       "{'Mount Everest': (27.9881, 86.925),\n",
       " 'K2': (35.8808, 76.5155),\n",
       " 'Kangchenjunga': (27.7025, 88.1475)}"
      ]
     },
     "execution_count": 102,
     "metadata": {},
     "output_type": "execute_result"
    }
   ],
   "source": [
    "locations2 = {names: (lat, lon) for names, lat, lon in locations}\n",
    "locations2"
   ]
  },
  {
   "cell_type": "markdown",
   "metadata": {},
   "source": [
    "## Exercise 11: Manipulating Geographic Location Strings\n",
    "\n",
    "- Create a string that represents the name of a geographic feature (e.g., `\"Amazon River\"`).\n",
    "- Convert the string to lowercase and then to uppercase.\n",
    "- Concatenate the string with the name of the country (e.g., `\"Brazil\"`) to create a full location name.\n",
    "- Repeat the string three times, separating each repetition with a dash (`-`)."
   ]
  },
  {
   "cell_type": "code",
   "execution_count": 104,
   "metadata": {},
   "outputs": [],
   "source": [
    "tour = \"Mt Afadjato\""
   ]
  },
  {
   "cell_type": "code",
   "execution_count": 105,
   "metadata": {},
   "outputs": [
    {
     "data": {
      "text/plain": [
       "'MT AFADJATO'"
      ]
     },
     "execution_count": 105,
     "metadata": {},
     "output_type": "execute_result"
    }
   ],
   "source": [
    "tour.upper()"
   ]
  },
  {
   "cell_type": "code",
   "execution_count": 129,
   "metadata": {},
   "outputs": [
    {
     "data": {
      "text/plain": [
       "'mt afadjato'"
      ]
     },
     "execution_count": 129,
     "metadata": {},
     "output_type": "execute_result"
    }
   ],
   "source": [
    "tour.lower()"
   ]
  },
  {
   "cell_type": "code",
   "execution_count": 191,
   "metadata": {},
   "outputs": [
    {
     "data": {
      "text/plain": [
       "'Mt Afadjato, Ghana'"
      ]
     },
     "execution_count": 191,
     "metadata": {},
     "output_type": "execute_result"
    }
   ],
   "source": [
    "update = tour + \", \" \"Ghana\"\n",
    "update"
   ]
  },
  {
   "cell_type": "code",
   "execution_count": 139,
   "metadata": {},
   "outputs": [
    {
     "data": {
      "text/plain": [
       "\"('Mt Afadjato', 'Ghana')-('Mt Afadjato', 'Ghana')-('Mt Afadjato', 'Ghana')\""
      ]
     },
     "execution_count": 139,
     "metadata": {},
     "output_type": "execute_result"
    }
   ],
   "source": [
    "repeat = \"-\".join([str(update)] * 3)\n",
    "repeat"
   ]
  },
  {
   "cell_type": "markdown",
   "metadata": {},
   "source": [
    "## Exercise 12: Extracting and Formatting Coordinates\n",
    "\n",
    "- Given a string with the format `\"latitude, longitude\"` (e.g., `\"40.7128N, 74.0060W\"`), extract the numeric values of latitude and longitude.\n",
    "- Convert these values to floats and remove the directional indicators (`N`, `S`, `E`, `W`).\n",
    "- Format the coordinates into a `POINT` WKT string (e.g., `\"POINT(-74.0060 40.7128)\"`)."
   ]
  },
  {
   "cell_type": "markdown",
   "metadata": {},
   "source": []
  },
  {
   "cell_type": "code",
   "execution_count": 146,
   "metadata": {},
   "outputs": [
    {
     "name": "stdout",
     "output_type": "stream",
     "text": [
      "Parsed Coordinates: 40.7128, 74.006\n"
     ]
    }
   ],
   "source": [
    "Coord = \"40.7128N, 74.0060W\"\n",
    "lat, lon = Coord.split(\", \")\n",
    "latitude = float(lat[:-1])\n",
    "longitude = float(lon[:-1])\n",
    "print(f\"Parsed Coordinates: {latitude}, {longitude}\")"
   ]
  },
  {
   "cell_type": "code",
   "execution_count": 147,
   "metadata": {},
   "outputs": [
    {
     "name": "stdout",
     "output_type": "stream",
     "text": [
      "POINT(74.006 40.7128)\n"
     ]
    }
   ],
   "source": [
    "wkt_point = f\"POINT({longitude} {latitude})\"\n",
    "print(wkt_point)"
   ]
  },
  {
   "cell_type": "markdown",
   "metadata": {},
   "source": [
    "## Exercise 13: Building Dynamic SQL Queries\n",
    "\n",
    "- Given a table name and a condition, dynamically build an SQL query string.\n",
    "- Example: If `table_name = \"cities\"` and `condition = \"population > 1000000\"`, the query should be `\"SELECT * FROM cities WHERE population > 1000000;\"`.\n",
    "- Add additional conditions dynamically, like `AND` clauses."
   ]
  },
  {
   "cell_type": "code",
   "execution_count": 165,
   "metadata": {},
   "outputs": [
    {
     "name": "stdout",
     "output_type": "stream",
     "text": [
      "SELECT * FROM cities WHERE population > 10000 AND density < 1000 OR highway % 2 = 0\n"
     ]
    }
   ],
   "source": [
    "table_name = \"cities\"\n",
    "condition = \"population > 10000\"\n",
    "condition2 = \"density < 1000\"\n",
    "condition3 = \"highway % 2 = 0\"\n",
    "sql_query = f\"SELECT * FROM {table_name} WHERE {condition} AND {condition2} OR {condition3}\"\n",
    "print(sql_query)"
   ]
  },
  {
   "cell_type": "markdown",
   "metadata": {},
   "source": [
    "## Exercise 14: String Normalization and Cleaning\n",
    "\n",
    "- Given a list of city names with inconsistent formatting (e.g., `[\" new york \", \"Los ANGELES\", \"   CHICAGO\"]`), normalize the names by:\n",
    "  - Stripping any leading or trailing whitespace.\n",
    "  - Converting them to title case (e.g., `\"New York\"`, `\"Los Angeles\"`, `\"Chicago\"`).\n",
    "- Ensure that the output is a clean list of city names."
   ]
  },
  {
   "cell_type": "markdown",
   "metadata": {},
   "source": []
  },
  {
   "cell_type": "code",
   "execution_count": 184,
   "metadata": {},
   "outputs": [],
   "source": [
    "african_cities = [\n",
    "    \"lagos\", \" Cairo \", \"nairobi\", \"Cape town\", \"ADDIS ABABA\", \n",
    "    \" johannesburg\", \"AccrA \", \"DAkar\", \"Kampala \", \"Casablanca  \"\n",
    "]\n"
   ]
  },
  {
   "cell_type": "code",
   "execution_count": 190,
   "metadata": {},
   "outputs": [
    {
     "data": {
      "text/plain": [
       "['Lagos',\n",
       " 'Cairo',\n",
       " 'Nairobi',\n",
       " 'Cape Town',\n",
       " 'Addis Ababa',\n",
       " 'Johannesburg',\n",
       " 'Accra',\n",
       " 'Dakar',\n",
       " 'Kampala',\n",
       " 'Casablanca']"
      ]
     },
     "execution_count": 190,
     "metadata": {},
     "output_type": "execute_result"
    }
   ],
   "source": [
    "[str(african_cities).strip().title() for african_cities in african_cities]"
   ]
  },
  {
   "cell_type": "markdown",
   "metadata": {},
   "source": [
    "## Exercise 15: Parsing and Extracting Address Information\n",
    "\n",
    "- Given a string in the format `\"Street, City, Country\"` (e.g., `\"123 Main St, Springfield, USA\"`), write a function that parses the string into a dictionary with keys `street`, `city`, and `country`.\n",
    "- The function should return a dictionary like `{\"street\": \"123 Main St\", \"city\": \"Springfield\", \"country\": \"USA\"}`."
   ]
  },
  {
   "cell_type": "code",
   "execution_count": 192,
   "metadata": {},
   "outputs": [
    {
     "name": "stdout",
     "output_type": "stream",
     "text": [
      "Street: 123 Main St, City: New York, State: NY, Zipcode: 10030\n"
     ]
    }
   ],
   "source": [
    "addresses = \"123 Main St, New York, NY, 10030\"\n",
    "street, city, state, zipcode = addresses.split(\", \")\n",
    "print(f\"Street: {street}, City: {city}, State: {state}, Zipcode: {zipcode}\")"
   ]
  },
  {
   "cell_type": "markdown",
   "metadata": {},
   "source": [
    "## Exercise 16: Using For Loops to Process Coordinate Lists\n",
    "\n",
    "- Create a list of tuples representing coordinates (latitude, longitude).\n",
    "- Write a `for` loop that prints each coordinate and indicates whether it is in the Northern or Southern Hemisphere based on the latitude."
   ]
  },
  {
   "cell_type": "code",
   "execution_count": 198,
   "metadata": {},
   "outputs": [],
   "source": [
    "Coordinate_List = [\n",
    "    (40.7128, -74.0060),\n",
    "    (34.0522, -118.2437),\n",
    "    (-41.8781, 87.6298),\n",
    "    (25.7617, -80.1918),\n",
    "    (48.8584, 2.2945),\n",
    "    (-37.7749, -122.4194),\n",
    "    (0, 22.3546),\n",
    "]"
   ]
  },
  {
   "cell_type": "code",
   "execution_count": 199,
   "metadata": {},
   "outputs": [
    {
     "name": "stdout",
     "output_type": "stream",
     "text": [
      "40.7128 is in the Northern Hemisphere\n",
      "34.0522 is in the Northern Hemisphere\n",
      "-41.8781 is in the Southern Hemisphere\n",
      "25.7617 is in the Northern Hemisphere\n",
      "48.8584 is in the Northern Hemisphere\n",
      "-37.7749 is in the Southern Hemisphere\n",
      "0 is on the Equator\n"
     ]
    }
   ],
   "source": [
    "for lat, lon in Coordinate_List:\n",
    "    if lat > 0:\n",
    "        print(f\"{lat} is in the Northern Hemisphere\")\n",
    "    elif lat < 0:\n",
    "        print(f\"{lat} is in the Southern Hemisphere\")\n",
    "    else:\n",
    "        print(f\"{lat} is on the Equator\")\n",
    "\n"
   ]
  },
  {
   "cell_type": "markdown",
   "metadata": {},
   "source": [
    "## Exercise 17: While Loops for Iterative Processing\n",
    "\n",
    "- Create a list of coordinates (latitude, longitude).\n",
    "- Write a `while` loop that continues to print each coordinate until it encounters a coordinate with a negative latitude.\n",
    "- Stop the loop once this condition is met."
   ]
  },
  {
   "cell_type": "code",
   "execution_count": 214,
   "metadata": {},
   "outputs": [],
   "source": [
    "coordinates1 = [\n",
    "    (34.0522, -118.2437),  # Los Angeles\n",
    "    (40.7128, -74.0060),   # New York\n",
    "    (51.5074, -0.1278),    # London\n",
    "    (-33.8688, 151.2093),  # Sydney (negative latitude, loop should stop here)\n",
    "    (35.6895, 139.6917),   # Tokyo\n",
    "]"
   ]
  },
  {
   "cell_type": "code",
   "execution_count": 215,
   "metadata": {},
   "outputs": [
    {
     "name": "stdout",
     "output_type": "stream",
     "text": [
      "Coordinates: 34.0522, -118.2437\n",
      "Coordinates: 40.7128, -74.006\n",
      "Coordinates: 51.5074, -0.1278\n"
     ]
    }
   ],
   "source": [
    "#Using the same coordinate_list from exercise 16\n",
    "counter = 0\n",
    "while counter < len(coordinates1):\n",
    "    lat, lon = coordinates1[counter]\n",
    "    if lat < 0:\n",
    "        break\n",
    "    print(f\"Coordinates: {lat}, {lon}\")\n",
    "    counter += 1"
   ]
  },
  {
   "cell_type": "markdown",
   "metadata": {},
   "source": [
    "## Exercise 18: Conditional Logic in Loops\n",
    "\n",
    "- Create a list of coordinates and use a `for` loop to iterate over them.\n",
    "- Use an `if-elif-else` statement inside the loop to classify each coordinate based on its longitude:\n",
    "  - Print `\"Eastern Hemisphere\"` if the longitude is greater than 0.\n",
    "  - Print `\"Western Hemisphere\"` if the longitude is less than 0."
   ]
  },
  {
   "cell_type": "code",
   "execution_count": 216,
   "metadata": {},
   "outputs": [
    {
     "name": "stdout",
     "output_type": "stream",
     "text": [
      "Coordinates: 40.7128, -74.006 is in the Western Hemisphere\n",
      "Coordinates: 34.0522, -118.2437 is in the Western Hemisphere\n",
      "Coordinates: -41.8781, 87.6298 is in the Eastern Hemisphere\n",
      "Coordinates: 25.7617, -80.1918 is in the Western Hemisphere\n",
      "Coordinates: 48.8584, 2.2945 is in the Eastern Hemisphere\n",
      "Coordinates: -37.7749, -122.4194 is in the Western Hemisphere\n",
      "Coordinates: 0, 22.3546 is in the Eastern Hemisphere\n"
     ]
    }
   ],
   "source": [
    "for lat, lon in Coordinate_List:\n",
    "    if lon < 0:\n",
    "        print(f\"Coordinates: {lat}, {lon} is in the Western Hemisphere\")\n",
    "    elif lon > 0:\n",
    "        print(f\"Coordinates: {lat}, {lon} is in the Eastern Hemisphere\")\n",
    "    else:\n",
    "        print(f\"Coordinates: {lat}, {lon} is on the Prime Meridian\")"
   ]
  },
  {
   "cell_type": "markdown",
   "metadata": {},
   "source": [
    "## Exercise 19: Filtering Data with Combined Loops and Conditionals\n",
    "\n",
    "- Given a list of coordinates, filter out and store only those located in the Southern Hemisphere (latitude < 0).\n",
    "- Count the number of coordinates that meet this condition and print the result."
   ]
  },
  {
   "cell_type": "code",
   "execution_count": 217,
   "metadata": {},
   "outputs": [
    {
     "name": "stdout",
     "output_type": "stream",
     "text": [
      "Southern Hemisphere Coordinates: [(-41.8781, 87.6298), (-37.7749, -122.4194)]\n"
     ]
    }
   ],
   "source": [
    "filtered_coordinates = []\n",
    "for lat, lon in Coordinate_List:\n",
    "    if lat < 0:\n",
    "        filtered_coordinates.append((lat, lon))\n",
    "print(f\"Southern Hemisphere Coordinates: {filtered_coordinates}\")"
   ]
  },
  {
   "cell_type": "markdown",
   "metadata": {},
   "source": [
    "## Exercise 20: Generating and Analyzing Random Coordinates\n",
    "\n",
    "- Write a program that generates random coordinates (latitude between [-90, 90] degrees and longitude between [-180, 180] degrees).\n",
    "- Use a `while` loop to keep generating coordinates until a pair with both latitude and longitude greater than 50 is generated.\n",
    "- Print each generated coordinate and the final coordinate that meets the condition.\n",
    "  "
   ]
  },
  {
   "cell_type": "code",
   "execution_count": 218,
   "metadata": {},
   "outputs": [],
   "source": [
    "import random\n",
    "\n",
    "def random_coordinates():\n",
    "    return random.uniform(-90, 90), random.uniform(-180, 180)"
   ]
  },
  {
   "cell_type": "code",
   "execution_count": 223,
   "metadata": {},
   "outputs": [
    {
     "name": "stdout",
     "output_type": "stream",
     "text": [
      "Random Coordinates: 28.749276068263143, 151.7103228670153\n",
      "Random Coordinates: 86.87989170900016, 20.419274783427767\n",
      "Random Coordinates: 46.24738814552117, -38.778716759091395\n",
      "Random Coordinates: -60.67513632766087, -51.84987964118943\n",
      "Random Coordinates: -83.00410026596846, 92.21984685072431\n",
      "Random Coordinates: -37.66523809617984, -127.51228135993729\n",
      "Random Coordinates: -23.01699606383906, 5.421835520390005\n",
      "Random Coordinates: 57.84818766191489, 161.43438794227387\n"
     ]
    }
   ],
   "source": [
    "while True:\n",
    "    lat, lon = random_coordinates()\n",
    "    print(f\"Random Coordinates: {lat}, {lon}\")\n",
    "    if lat > 50 and lon > 50:\n",
    "        break\n",
    "    "
   ]
  },
  {
   "cell_type": "markdown",
   "metadata": {},
   "source": [
    "## Submission Requirements\n",
    "\n",
    "Complete the exercises above and and upload the notebook to your GitHub repository. Make sure the notebook has a Colab badge at the top so that it can be easily opened in Google Colab. Submit the URL of the notebook to Canvas."
   ]
  }
 ],
 "metadata": {
  "kernelspec": {
   "display_name": "geo",
   "language": "python",
   "name": "python3"
  },
  "language_info": {
   "codemirror_mode": {
    "name": "ipython",
    "version": 3
   },
   "file_extension": ".py",
   "mimetype": "text/x-python",
   "name": "python",
   "nbconvert_exporter": "python",
   "pygments_lexer": "ipython3",
   "version": "3.12.8"
  }
 },
 "nbformat": 4,
 "nbformat_minor": 4
}
